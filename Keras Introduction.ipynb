{
 "cells": [
  {
   "cell_type": "markdown",
   "metadata": {},
   "source": [
    "# <b>Introduction to Keras</b>\n",
    "![Kears_Logo](img/keras_logo.png)"
   ]
  },
  {
   "cell_type": "markdown",
   "metadata": {},
   "source": [
    "<a href=\"https://keras.io/\">Keras</a> is a Python deep-learning framework authored by <a href=\"https://ai.google/research/people/105096\">Francois Chollet</a> that provides a <b>convenient way</b>\n",
    "<ul>\n",
    "    <li>to define</li>\n",
    "    <li>and train</li>\n",
    "</ul> \n",
    "deep-learning model.\n",
    "    \n",
    "<i>or simply</i>\n",
    "<br>\n",
    "Keras: an API for specifying & training differentiable programs<a href=\"https://web.stanford.edu/class/cs20si/lectures/march9guestlecture.pdf\"><sup>[1]</sup></a>"
   ]
  },
  {
   "cell_type": "markdown",
   "metadata": {},
   "source": [
    "### It is the official high-level API of TensorFlow\n",
    "\n",
    "![tf.keras](img/tf.keras.png)"
   ]
  },
  {
   "cell_type": "markdown",
   "metadata": {},
   "source": [
    "<h2>Keras has the following key features:</h2>\n",
    "\n",
    "<ol>\n",
    "    <li>Inherits all pros of the backend ML library (No need to worry about Eager )</li>\n",
    "    <li>It has a user-friendly API that makes it easy to quickly prototype deep-learning\n",
    "        models.</li>\n",
    "    <li>It has built-in support for various neural network architecturs\n",
    "        <ul>\n",
    "            <li>convolutional networks (for computer vision)</li>\n",
    "            <li>recurrent networks (for sequence processing)</li>\n",
    "            <li>and any combination of both</li>\n",
    "         </ul>\n",
    "    </li>\n",
    "</ol>"
   ]
  },
  {
   "cell_type": "markdown",
   "metadata": {},
   "source": [
    "### Interests in Keras <a href=\"https://twitter.com/fchollet/status/871089784898310144\">[2]</a>\n",
    "![stats](img/stats.png)"
   ]
  },
  {
   "cell_type": "markdown",
   "metadata": {},
   "source": [
    "## Who or what makes up Keras?\n",
    "![Contributors](img/contributors.png)<br>\n",
    "Keras does not execute low-level operations.<br>\n",
    "Instead it relies on a specialized, well-optimized tensor library to handle low level operations e.g TensorFlow<br>\n",
    "For handling operations such as tensor manipulation and differentiation, serving as the backend engine of Keras.\n",
    "\n",
    "Keras handles the problem in a modular way."
   ]
  },
  {
   "cell_type": "markdown",
   "metadata": {},
   "source": [
    "![Backend](img/BackEnd.png)"
   ]
  },
  {
   "cell_type": "code",
   "execution_count": 1,
   "metadata": {},
   "outputs": [
    {
     "name": "stderr",
     "output_type": "stream",
     "text": [
      "Using TensorFlow backend.\n"
     ]
    }
   ],
   "source": [
    "\"\"\"\n",
    "importing modules\n",
    "\"\"\"\n",
    "from keras import backend as BackEnd # the module that allows us to manipulate our Keras backend\n",
    "import os # library that will give us system access to the keras backend file\n",
    "from importlib import reload # the library that will we will use reload a function"
   ]
  },
  {
   "cell_type": "markdown",
   "metadata": {},
   "source": [
    "Switching to CNTK<a href=\"https://github.com/Microsoft/CNTK\"><sup>[3]</sup></a> as our backend."
   ]
  },
  {
   "cell_type": "code",
   "execution_count": 2,
   "metadata": {},
   "outputs": [
    {
     "name": "stderr",
     "output_type": "stream",
     "text": [
      "Using CNTK backend\n"
     ]
    },
    {
     "data": {
      "text/plain": [
       "<module 'keras.backend' from 'c:\\\\intelpython3\\\\lib\\\\site-packages\\\\keras\\\\backend\\\\__init__.py'>"
      ]
     },
     "execution_count": 2,
     "metadata": {},
     "output_type": "execute_result"
    }
   ],
   "source": [
    "\"\"\"\n",
    "# setting our backend to CNTK \n",
    "i.e Microsoft Cognitive toolkit\n",
    "\"\"\"\n",
    "os.environ['KERAS_BACKEND'] = \"cntk\" \n",
    "reload(BackEnd)"
   ]
  },
  {
   "cell_type": "markdown",
   "metadata": {},
   "source": [
    "Switching to Theano<a href=\"http://deeplearning.net/software/theano\"><sup>[4]</sup></a> as our backend."
   ]
  },
  {
   "cell_type": "code",
   "execution_count": 3,
   "metadata": {},
   "outputs": [
    {
     "name": "stderr",
     "output_type": "stream",
     "text": [
      "Using Theano backend.\n"
     ]
    },
    {
     "data": {
      "text/plain": [
       "<module 'keras.backend' from 'c:\\\\intelpython3\\\\lib\\\\site-packages\\\\keras\\\\backend\\\\__init__.py'>"
      ]
     },
     "execution_count": 3,
     "metadata": {},
     "output_type": "execute_result"
    }
   ],
   "source": [
    "\"\"\"\n",
    "# setting our backend to Theano\n",
    "developed by the MILA lab at Université de Montréal,\n",
    "\"\"\"\n",
    "os.environ['KERAS_BACKEND'] = \"theano\"\n",
    "reload(BackEnd)"
   ]
  },
  {
   "cell_type": "code",
   "execution_count": 4,
   "metadata": {},
   "outputs": [],
   "source": [
    "\"\"\"\n",
    "Let's make life easier by making a function;\n",
    "this function will let us just use one line to change out backend\n",
    "\"\"\"\n",
    "def set_keras_backend(backend):# set_keras_backend will be the name of our function\n",
    "                               # the argument we will take in will be our backend framework\n",
    "    if BackEnd.backend() != backend: \n",
    "        os.environ['KERAS_BACKEND'] = backend\n",
    "        reload(BackEnd)\n",
    "        assert BackEnd.backend() == backend"
   ]
  },
  {
   "cell_type": "code",
   "execution_count": 5,
   "metadata": {},
   "outputs": [
    {
     "name": "stderr",
     "output_type": "stream",
     "text": [
      "Using TensorFlow backend.\n"
     ]
    }
   ],
   "source": [
    "set_keras_backend(\"tensorflow\")"
   ]
  },
  {
   "cell_type": "markdown",
   "metadata": {},
   "source": [
    "## Scaling on the job market<br>\n",
    "![Keras Users](img/jobs.png)<br>"
   ]
  },
  {
   "cell_type": "markdown",
   "metadata": {},
   "source": [
    "## Who  is using Keras?\n",
    "![Companies](img/companies.png)<br>"
   ]
  },
  {
   "cell_type": "markdown",
   "metadata": {},
   "source": [
    "### Distributed Computing\n",
    "![Distrtibuted](img/distributed.png)"
   ]
  },
  {
   "cell_type": "markdown",
   "metadata": {},
   "source": [
    "# <b>How to use Keras</b>"
   ]
  },
  {
   "cell_type": "markdown",
   "metadata": {},
   "source": [
    "### Keras is a simple but powerful tool or users of every experience level\n",
    "![API](img/api.png)"
   ]
  },
  {
   "cell_type": "markdown",
   "metadata": {},
   "source": [
    "### The Sequential API"
   ]
  },
  {
   "cell_type": "code",
   "execution_count": null,
   "metadata": {},
   "outputs": [],
   "source": [
    "import keras\n",
    "from keras import layers"
   ]
  },
  {
   "cell_type": "code",
   "execution_count": null,
   "metadata": {},
   "outputs": [],
   "source": [
    "model = keras.Sequential()"
   ]
  },
  {
   "cell_type": "code",
   "execution_count": null,
   "metadata": {},
   "outputs": [],
   "source": [
    "model.add(layers.Dense(20, activation=\"relu\", input_shape=(10,)))\n",
    "model.add(layers.Dense(20, activation=\"relu\",))\n",
    "model.add(layers.Dense(10, activation=\"softmax\"))"
   ]
  },
  {
   "cell_type": "code",
   "execution_count": null,
   "metadata": {},
   "outputs": [],
   "source": [
    "model.fit(x, y, epochs=10, batch_size=32)"
   ]
  },
  {
   "cell_type": "markdown",
   "metadata": {},
   "source": [
    "### The Functional API"
   ]
  },
  {
   "cell_type": "code",
   "execution_count": null,
   "metadata": {},
   "outputs": [],
   "source": [
    "import keras\n",
    "from keras import layers"
   ]
  },
  {
   "cell_type": "code",
   "execution_count": null,
   "metadata": {},
   "outputs": [],
   "source": [
    "inputs = keras.Input(shape=(10,))"
   ]
  },
  {
   "cell_type": "code",
   "execution_count": null,
   "metadata": {},
   "outputs": [],
   "source": [
    "x = layers.Dense(20, activation=\"relu\")(x)\n",
    "x = layers.Dense(20, activation=\"relu\")(x)"
   ]
  },
  {
   "cell_type": "code",
   "execution_count": null,
   "metadata": {},
   "outputs": [],
   "source": [
    "outputs = layers.Dense(10, activation=\"softmax\")(x)"
   ]
  },
  {
   "cell_type": "code",
   "execution_count": null,
   "metadata": {},
   "outputs": [],
   "source": [
    "model = keras.Model(inputs, outputs)"
   ]
  },
  {
   "cell_type": "code",
   "execution_count": null,
   "metadata": {},
   "outputs": [],
   "source": [
    "model.fit(x, y, epochs=10, batch_size=32)"
   ]
  },
  {
   "cell_type": "markdown",
   "metadata": {},
   "source": [
    "### Model subclassing"
   ]
  },
  {
   "cell_type": "code",
   "execution_count": null,
   "metadata": {},
   "outputs": [],
   "source": [
    "import keras\n",
    "from keras import layers"
   ]
  },
  {
   "cell_type": "code",
   "execution_count": null,
   "metadata": {},
   "outputs": [],
   "source": [
    "class MyModel(keras.Model):\n",
    "    def__init__(self):\n",
    "        super(MyModel, self).__init__()\n",
    "        self.dense1 = layers.Dense(20, activation=\"relu\")\n",
    "        self.dense2 = layers.Dense(20, activation=\"relu\")\n",
    "        self.dense3 = layers.Dense(10, activation=\"softmax\")\n",
    "        \n",
    "    def call(self, inputs):\n",
    "        x = self.dense1(x)\n",
    "        x = self.dense2(x)\n",
    "        return self.dense3(x)\n",
    "\n",
    "model = MyModel()\n",
    "model.fit(x, y, epochs, batch_size=32)\n",
    "    "
   ]
  },
  {
   "cell_type": "markdown",
   "metadata": {},
   "source": [
    "# MNIST"
   ]
  },
  {
   "cell_type": "markdown",
   "metadata": {},
   "source": [
    "![Mnist](img/mnist.png)"
   ]
  },
  {
   "cell_type": "code",
   "execution_count": 6,
   "metadata": {},
   "outputs": [],
   "source": [
    "# mnist comes with keras as numpy arrays\n",
    "from keras.datasets import mnist"
   ]
  },
  {
   "cell_type": "code",
   "execution_count": 7,
   "metadata": {},
   "outputs": [],
   "source": [
    "# loading the training and test set images along with the labels\n",
    "(train_images, train_labels), (test_images, test_labels) = mnist.load_data()"
   ]
  },
  {
   "cell_type": "code",
   "execution_count": 8,
   "metadata": {},
   "outputs": [
    {
     "data": {
      "text/plain": [
       "(60000, 28, 28)"
      ]
     },
     "execution_count": 8,
     "metadata": {},
     "output_type": "execute_result"
    }
   ],
   "source": [
    "# to see the number of training images and dimensions\n",
    "train_images.shape"
   ]
  },
  {
   "cell_type": "code",
   "execution_count": 9,
   "metadata": {},
   "outputs": [
    {
     "data": {
      "text/plain": [
       "60000"
      ]
     },
     "execution_count": 9,
     "metadata": {},
     "output_type": "execute_result"
    }
   ],
   "source": [
    "# viewing the number of labels \"training\"\n",
    "len(train_labels)"
   ]
  },
  {
   "cell_type": "code",
   "execution_count": 10,
   "metadata": {},
   "outputs": [
    {
     "data": {
      "text/plain": [
       "array([5, 0, 4, ..., 5, 6, 8], dtype=uint8)"
      ]
     },
     "execution_count": 10,
     "metadata": {},
     "output_type": "execute_result"
    }
   ],
   "source": [
    "# to view the stored form and stored format of the training labels\n",
    "train_labels"
   ]
  },
  {
   "cell_type": "markdown",
   "metadata": {},
   "source": [
    "### We move onto the test data now"
   ]
  },
  {
   "cell_type": "code",
   "execution_count": 11,
   "metadata": {},
   "outputs": [
    {
     "data": {
      "text/plain": [
       "(10000, 28, 28)"
      ]
     },
     "execution_count": 11,
     "metadata": {},
     "output_type": "execute_result"
    }
   ],
   "source": [
    "# to see the number of testing images and dimensions\n",
    "test_images.shape"
   ]
  },
  {
   "cell_type": "code",
   "execution_count": 12,
   "metadata": {},
   "outputs": [
    {
     "data": {
      "text/plain": [
       "10000"
      ]
     },
     "execution_count": 12,
     "metadata": {},
     "output_type": "execute_result"
    }
   ],
   "source": [
    "# viewing the number of labels \"testing\"\n",
    "len(test_labels)"
   ]
  },
  {
   "cell_type": "code",
   "execution_count": 13,
   "metadata": {},
   "outputs": [
    {
     "data": {
      "text/plain": [
       "array([7, 2, 1, ..., 4, 5, 6], dtype=uint8)"
      ]
     },
     "execution_count": 13,
     "metadata": {},
     "output_type": "execute_result"
    }
   ],
   "source": [
    "# to view the stored form and stored format of the testing labels\n",
    "test_labels"
   ]
  },
  {
   "cell_type": "markdown",
   "metadata": {},
   "source": [
    "### About the network architecture"
   ]
  },
  {
   "cell_type": "code",
   "execution_count": 14,
   "metadata": {},
   "outputs": [],
   "source": [
    "from keras import models\n",
    "from keras import layers"
   ]
  },
  {
   "cell_type": "code",
   "execution_count": 15,
   "metadata": {},
   "outputs": [],
   "source": [
    "network = models.Sequential()\n",
    "\n",
    "# the sequential model is connected to 512 neurons in the network \n",
    "network.add(layers.Dense(512, activation='relu', input_shape=(28 * 28,)))\n",
    "\n",
    "# Each score will be the probability that the current digit image belongs to\n",
    "# one of our 10 digit classes.\n",
    "network.add(layers.Dense(10, activation='softmax'))\n",
    "# it will return an array of 10 probability scores \n",
    "# (summing to 1)"
   ]
  },
  {
   "cell_type": "markdown",
   "metadata": {},
   "source": [
    "\n",
    "\n",
    "-> A loss function—How the network will be able to measure its performance on the training data, and thus how it will be able to steer itself in the right direction.\n",
    "\n",
    "-> An optimizer—The mechanism through which the network will update itself based on the data it sees and its loss function.\n",
    "\n",
    "-> Metrics to monitor during training and testing—Here, we’ll only care about accuracy (the fraction of the images that were correctly classified).\n"
   ]
  },
  {
   "cell_type": "markdown",
   "metadata": {},
   "source": [
    "## The compilation step"
   ]
  },
  {
   "cell_type": "code",
   "execution_count": 16,
   "metadata": {},
   "outputs": [],
   "source": [
    "network.compile(optimizer='rmsprop',\n",
    "                loss='categorical_crossentropy',\n",
    "                metrics=['accuracy'])"
   ]
  },
  {
   "cell_type": "markdown",
   "metadata": {},
   "source": [
    "\n",
    "\n",
    "Before training, we’ll preprocess the data by reshaping it into the shape the network expects and scaling it so that all values are in the [0, 1] interval.\n",
    "\n",
    "Previously, our training images, for instance, were stored in an array of shape (60000, 28, 28) of type uint8 with values in the [0, 255] interval.\n"
   ]
  },
  {
   "cell_type": "code",
   "execution_count": 17,
   "metadata": {},
   "outputs": [],
   "source": [
    "# We transform it into a float32 array of\n",
    "# shape (60000, 28 * 28) with values between 0 and 1.\n",
    "\n",
    "train_images = train_images.reshape((60000, 28 * 28))\n",
    "train_images = train_images.astype('float32') / 255\n",
    "\n",
    "# dividing by 255 is a form of data normalisation\n",
    "test_images = test_images.reshape((10000, 28 * 28))\n",
    "test_images = test_images.astype('float32') / 255"
   ]
  },
  {
   "cell_type": "code",
   "execution_count": 18,
   "metadata": {},
   "outputs": [],
   "source": [
    "# Linking the labels and images\n",
    "\n",
    "from keras.utils import to_categorical\n",
    "# We need to categorically encode the labels\n",
    "\n",
    "train_labels = to_categorical(train_labels)\n",
    "test_labels = to_categorical(test_labels)"
   ]
  },
  {
   "cell_type": "code",
   "execution_count": 19,
   "metadata": {},
   "outputs": [
    {
     "name": "stdout",
     "output_type": "stream",
     "text": [
      "Train on 54000 samples, validate on 6000 samples\n",
      "Epoch 1/10\n",
      "54000/54000 [==============================] - 4s 73us/step - loss: 0.2777 - acc: 0.9193 - val_loss: 0.1233 - val_acc: 0.9630\n",
      "Epoch 2/10\n",
      "54000/54000 [==============================] - 4s 73us/step - loss: 0.1136 - acc: 0.9666 - val_loss: 0.0958 - val_acc: 0.9733\n",
      "Epoch 3/10\n",
      "54000/54000 [==============================] - 4s 75us/step - loss: 0.0748 - acc: 0.9777 - val_loss: 0.0780 - val_acc: 0.9788\n",
      "Epoch 4/10\n",
      "54000/54000 [==============================] - 4s 76us/step - loss: 0.0534 - acc: 0.9838 - val_loss: 0.0851 - val_acc: 0.9732\n",
      "Epoch 5/10\n",
      "54000/54000 [==============================] - 4s 81us/step - loss: 0.0397 - acc: 0.9882 - val_loss: 0.0647 - val_acc: 0.9815\n",
      "Epoch 6/10\n",
      "54000/54000 [==============================] - 4s 76us/step - loss: 0.0305 - acc: 0.9905 - val_loss: 0.0585 - val_acc: 0.9832\n",
      "Epoch 7/10\n",
      "54000/54000 [==============================] - 4s 79us/step - loss: 0.0234 - acc: 0.9930 - val_loss: 0.0611 - val_acc: 0.9837\n",
      "Epoch 8/10\n",
      "54000/54000 [==============================] - 5s 84us/step - loss: 0.0175 - acc: 0.9949 - val_loss: 0.0704 - val_acc: 0.9825\n",
      "Epoch 9/10\n",
      "54000/54000 [==============================] - 5s 84us/step - loss: 0.0130 - acc: 0.9965 - val_loss: 0.0714 - val_acc: 0.9823\n",
      "Epoch 10/10\n",
      "54000/54000 [==============================] - 5s 89us/step - loss: 0.0106 - acc: 0.9967 - val_loss: 0.0712 - val_acc: 0.9827\n"
     ]
    },
    {
     "data": {
      "text/plain": [
       "<keras.callbacks.History at 0x175106e63c8>"
      ]
     },
     "execution_count": 19,
     "metadata": {},
     "output_type": "execute_result"
    }
   ],
   "source": [
    "# We’re now ready to train the network, which in Keras is done via a call to the net-\n",
    "# work’s fit method—we fit the model to its training data\n",
    "\n",
    "#network.fit(train_images, train_labels, epochs=10, batch_size=128)\n",
    "\n",
    "network.fit(train_images, train_labels,batch_size=128, epochs=10, verbose=1, validation_split=0.1)"
   ]
  },
  {
   "cell_type": "code",
   "execution_count": 20,
   "metadata": {},
   "outputs": [
    {
     "name": "stdout",
     "output_type": "stream",
     "text": [
      "10000/10000 [==============================] - 1s 50us/step\n",
      "test_acc: 0.9821\n"
     ]
    }
   ],
   "source": [
    "# Now let’s check that the model performs well on the test set\n",
    "test_loss, test_acc = network.evaluate(test_images, test_labels)\n",
    "print('test_acc:', test_acc)"
   ]
  },
  {
   "cell_type": "markdown",
   "metadata": {},
   "source": [
    "# Thank you"
   ]
  },
  {
   "cell_type": "markdown",
   "metadata": {},
   "source": [
    "### Shout out to our sponsor\n",
    "\n",
    "![Deep Analytics](img/Deep_Analytics.png)\n",
    "\n",
    "visit their <a href=\"http://deepanalytics.ai/\">website</a>\n",
    "\n",
    "Like their <a href=\"https://www.facebook.com/DeepAnalyticsAI/\">Facebook page</a>"
   ]
  },
  {
   "cell_type": "markdown",
   "metadata": {},
   "source": [
    "\n",
    "![School of AI](img/School_of_ai_logo.png)\n",
    "\n",
    "<a href=\"https://www.facebook.com/groups/harareschoolofai/\">Join our Facebook Group</a>"
   ]
  }
 ],
 "metadata": {
  "kernelspec": {
   "display_name": "Python 3",
   "language": "python",
   "name": "python3"
  },
  "language_info": {
   "codemirror_mode": {
    "name": "ipython",
    "version": 3
   },
   "file_extension": ".py",
   "mimetype": "text/x-python",
   "name": "python",
   "nbconvert_exporter": "python",
   "pygments_lexer": "ipython3",
   "version": "3.6.3"
  }
 },
 "nbformat": 4,
 "nbformat_minor": 2
}
